{
  "nbformat": 4,
  "nbformat_minor": 0,
  "metadata": {
    "colab": {
      "provenance": []
    },
    "kernelspec": {
      "name": "python3",
      "display_name": "Python 3"
    },
    "language_info": {
      "name": "python"
    }
  },
  "cells": [
    {
      "cell_type": "code",
      "execution_count": 13,
      "metadata": {
        "colab": {
          "base_uri": "https://localhost:8080/"
        },
        "id": "fR_HU4x_H7mB",
        "outputId": "fefc50fb-cdbe-418f-acc8-be2520f328af"
      },
      "outputs": [
        {
          "output_type": "stream",
          "name": "stdout",
          "text": [
            "Initial total distance: 19.0\n",
            "Optimized slope: -516.5171271129726\n",
            "Optimized intercept: 138.61690509259697\n",
            "Optimized total distance: 13.694916882619694\n"
          ]
        }
      ],
      "source": [
        "import numpy as np\n",
        "\n",
        "class LineModel:\n",
        "    def __init__(self, points):\n",
        "        self.points = points  # Points should be a list of tuples [(x1, y1), (x2, y2), ...]\n",
        "        self.slope = 0.0  # Default slope\n",
        "        self.intercept = 0.0  # Default intercept\n",
        "\n",
        "    def distance(self, point):\n",
        "        \"\"\"\n",
        "        Calculate the perpendicular distance from a point to the line.\n",
        "        Formula: |ax + by + c| / sqrt(a^2 + b^2)\n",
        "        where the line equation is ax + by + c = 0\n",
        "        For y = mx + c, a = -m, b = 1, c = -c\n",
        "        \"\"\"\n",
        "        x, y = point\n",
        "        numerator = abs(-self.slope * x + y - self.intercept)\n",
        "        denominator = np.sqrt(self.slope**2 + 1)\n",
        "        return numerator / denominator\n",
        "\n",
        "    def total_distance(self):\n",
        "        \"\"\"Calculate the total perpendicular distance for all points.\"\"\"\n",
        "        return sum(self.distance(point) for point in self.points)\n",
        "\n",
        "class OptimizeLineModel(LineModel):\n",
        "    def __init__(self, points, learning_rate=0.01, iterations=1000):\n",
        "        super().__init__(points)\n",
        "        self.learning_rate = learning_rate\n",
        "        self.iterations = iterations\n",
        "\n",
        "    def optimize(self):\n",
        "        \"\"\"Optimize the line parameters to minimize the total distance.\"\"\"\n",
        "        for _ in range(self.iterations):\n",
        "            gradient_slope = 0\n",
        "            gradient_intercept = 0\n",
        "            for x, y in self.points:\n",
        "                distance = -self.slope * x + y - self.intercept\n",
        "                norm = np.sqrt(self.slope**2 + 1)\n",
        "                gradient_slope += (distance * x) / norm\n",
        "                gradient_intercept += -distance / norm\n",
        "\n",
        "            # Update the slope and intercept\n",
        "            self.slope -= self.learning_rate * gradient_slope\n",
        "            self.intercept -= self.learning_rate * gradient_intercept\n",
        "\n",
        "# Example usage:\n",
        "points = [(1, 2), (2, 3), (3, 5), (4, 4), (5, 5)]\n",
        "line_model = OptimizeLineModel(points)\n",
        "print(\"Initial total distance:\", line_model.total_distance())\n",
        "line_model.optimize()\n",
        "print(\"Optimized slope:\", line_model.slope)\n",
        "print(\"Optimized intercept:\", line_model.intercept)\n",
        "print(\"Optimized total distance:\", line_model.total_distance())\n"
      ]
    },
    {
      "cell_type": "code",
      "source": [],
      "metadata": {
        "id": "ar8LjTxaMuNT"
      },
      "execution_count": null,
      "outputs": []
    }
  ]
}